{
 "cells": [
  {
   "cell_type": "code",
   "execution_count": null,
   "id": "4e01c435-bc13-4416-a4bb-80eb2a6f3dfe",
   "metadata": {},
   "outputs": [],
   "source": [
    "##Q1. What is Statistics?"
   ]
  },
  {
   "cell_type": "code",
   "execution_count": null,
   "id": "d6588f92-e783-4b3d-915c-24076fb51796",
   "metadata": {},
   "outputs": [],
   "source": [
    "Statistics is a branch of mathematics and a discipline within the field of data science that involves \n",
    "the collection, organization, analysis, interpretation, presentation, and understanding of data. It deals with the process of gathering and summarizing numerical information from raw\n",
    "data to make informed decisions or draw meaningful conclusions."
   ]
  },
  {
   "cell_type": "code",
   "execution_count": null,
   "id": "9b1de541-7604-4c33-94e7-f98998fc93de",
   "metadata": {},
   "outputs": [],
   "source": []
  },
  {
   "cell_type": "code",
   "execution_count": null,
   "id": "5a1704ab-28d0-4723-aa88-d5a857fbd4f1",
   "metadata": {},
   "outputs": [],
   "source": [
    "##Q2. Define the different types of statistics and give an example of when each type might be used."
   ]
  },
  {
   "cell_type": "code",
   "execution_count": null,
   "id": "f8c9e715-dc86-47b3-9706-ba31656ae9a5",
   "metadata": {},
   "outputs": [],
   "source": [
    "Descriptive Statistics:\n",
    "Descriptive statistics involve organizing, summarizing, and presenting data in a meaningful way to describe and understand its main features. It provides a clear and concise summary of the data, making it easier to interpret and communicate. \n",
    "The main types of descriptive statistics are:\n",
    "    \n",
    "    a. Measures of Central Tendency:\n",
    "These statistics help to identify the central or typical value of a dataset. Common measures include:\n",
    "\n",
    "Mean: The arithmetic average of all the values in a dataset. For example, calculating the mean score of students in a class to understand the overall performance.\n",
    "Median: The middle value in a dataset when the data is arranged in ascending or decending."
   ]
  },
  {
   "cell_type": "code",
   "execution_count": null,
   "id": "07948c9c-aa6f-4e7c-8983-ccb7918c11e3",
   "metadata": {},
   "outputs": [],
   "source": []
  },
  {
   "cell_type": "code",
   "execution_count": null,
   "id": "f896a08a-4042-49a8-90b4-0c02b0d4013e",
   "metadata": {},
   "outputs": [],
   "source": [
    "##Q3. What are the different types of data and how do they differ from each other? Provide an example of each type of data"
   ]
  },
  {
   "cell_type": "code",
   "execution_count": null,
   "id": "12348a33-6282-4f0f-b81e-7e41882f05e4",
   "metadata": {},
   "outputs": [],
   "source": [
    "Data can be categorized into different types based on their characteristics and formats. The most common types of data are:\n",
    "\n",
    "Numerical Data:\n",
    "Numerical data consists of numbers and can be further divided into two subtypes:\n",
    "\n",
    "Continuous: Continuous data can take any value within a specific range. It can be measured and subdivided infinitely. \n",
    "Examples include height, weight, temperature, etc.\n",
    "Discrete: Discrete data can only take specific whole number values and cannot be subdivided further.\n",
    "Examples include the number of students in a class, the number of cars in a parking lot, etc."
   ]
  },
  {
   "cell_type": "code",
   "execution_count": null,
   "id": "383558b0-96e0-4148-9226-3fad9168f599",
   "metadata": {},
   "outputs": [],
   "source": []
  },
  {
   "cell_type": "code",
   "execution_count": null,
   "id": "d8e6a462-1669-4918-a98c-2e833422c9ab",
   "metadata": {},
   "outputs": [],
   "source": [
    "## Q4. Categorise the following datasets with respect to quantitative and qualitative data types:\n",
    "(i) Grading in exam: A+, A, B+, B, C+, C, D, E\n",
    "(ii) Colour of mangoes: yellow, green, orange, red\n",
    "(iii) Height data of a class: [178.9, 179, 179.5, 176, 177.2, 178.3, 175.8,...]\n",
    "(iv) Number of mangoes exported by a farm: [500, 600, 478, 672, ...]"
   ]
  },
  {
   "cell_type": "code",
   "execution_count": null,
   "id": "555d55ca-9ffb-425f-b519-c01733477d91",
   "metadata": {},
   "outputs": [],
   "source": [
    "(i) Grading in exam: Quantitative data type.\n",
    "(ii) Colour of mangoes: Qualitative data type.\n",
    "(iii) Height data of a class: Quantitative data type.\n",
    "(iv) Number of mangoes exported by a farm: Quantitative data type."
   ]
  },
  {
   "cell_type": "code",
   "execution_count": null,
   "id": "4c0712ec-b8c1-43f3-a14c-60502883391f",
   "metadata": {},
   "outputs": [],
   "source": []
  },
  {
   "cell_type": "code",
   "execution_count": null,
   "id": "f9bcbb40-4def-4ac2-bf4f-da845c957543",
   "metadata": {},
   "outputs": [],
   "source": [
    "##Q5. Explain the concept of levels of measurement and give an example of a variable for each level."
   ]
  },
  {
   "cell_type": "code",
   "execution_count": null,
   "id": "d4abc835-efdf-4487-b93c-f9f94e24d926",
   "metadata": {},
   "outputs": [],
   "source": [
    "Levels of measurement are used to classify variables based on their scale of measurement. There are three main levels of measurement:\n",
    "1. Nominal level: This level of measurement is used for categorical variables. For example, gender, occupation, and marital status are\n",
    "all nominal variables.\n",
    "2. Ordinal level: This level of measurement is used for ordinal variables. It is used to classify variables that have a specific order \n",
    "or sequence. For example, grades in an exam are ordinal variables.\n",
    "3. Interval level: This level of measurement is used for variables that have a range of values. It is used for continuous variables.\n",
    "For example, height and salary are interval variables.\n",
    "Examples of variables for each level of measurement:\n",
    "1. Nominal variables: Gender, Occupation, Marital Status\n",
    "2. Ordinal variables: Grades in an exam\n",
    "3. Interval variables: Height, Salary, Temperature, Time"
   ]
  },
  {
   "cell_type": "code",
   "execution_count": null,
   "id": "ea04d14a-c47a-46c9-ad3e-1f67d5df8f75",
   "metadata": {},
   "outputs": [],
   "source": []
  },
  {
   "cell_type": "code",
   "execution_count": null,
   "id": "58777720-7ad7-4cc6-88fe-ada83aa5ad68",
   "metadata": {},
   "outputs": [],
   "source": [
    "Q6. Why is it important to understand the level of measurement when analyzing data? Provide an\n",
    "example to illustrate your answer."
   ]
  },
  {
   "cell_type": "code",
   "execution_count": null,
   "id": "916b62db-4be1-4a3c-ba37-5f071b5184f5",
   "metadata": {},
   "outputs": [],
   "source": [
    "Understanding the level of measurement is important because it helps in making accurate decisions and predictions based on the data. \n",
    "For example, if we have a dataset of heights and we assume that it is an interval variable, we may assume that the heights\n",
    "are in centimeters. However, if we have a dataset of grades in an exam and we assume that it is an ordinal variable, we may assume tha\n",
    "t the grades are in a specific order. Understanding the level of measurement helps us to make accurate decisions and predictions based on \n",
    "the data.\n",
    "Example: A dataset of heights and weights of individuals is provided. The heights are in meters and the weights are in kilograms. We want\n",
    "to determine the average height and weight of the individuals. If we assume that the heights are in centimeters and the weights are in \n",
    "pounds, we may get incorrect results. Therefore, it is important to understand the level of measurement of the data and make appropriate \n",
    "decisions based on the data."
   ]
  },
  {
   "cell_type": "code",
   "execution_count": null,
   "id": "c9792ba8-7035-4975-9904-450a79d97b72",
   "metadata": {},
   "outputs": [],
   "source": []
  },
  {
   "cell_type": "code",
   "execution_count": null,
   "id": "7f9e3bfa-5220-4b52-905e-a1e2b69993c0",
   "metadata": {},
   "outputs": [],
   "source": [
    "Nominal data is a type of data that consists of categories or labels that have no inherent order. For example, the colors red, green,\n",
    "and blue are nominal data. There is no inherent order to these colors; they are simply different from each other.\n",
    "Ordinal data is a type of data that consists of categories or labels that have a natural order. For example, the grades A, B, C, D, and F \n",
    "are ordinal data. There is a natural order to these grades, with A being the highest grade and F being the lowest grade.\n"
   ]
  },
  {
   "cell_type": "code",
   "execution_count": null,
   "id": "e62a43b8",
   "metadata": {},
   "outputs": [],
   "source": [
    "Nominal data is a type of data that consists of categories or labels that have no inherent order. For example, the colors red, green,\n",
    "and blue are nominal data. There is no inherent order to these colors; they are simply different from each other.\n",
    "Ordinal data is a type of data that consists of categories or labels that have a natural order. For example, the grades A, B, C, D, and F \n",
    "are ordinal data. There is a natural order to these grades, with A being the highest grade and F being the lowest grade.\n"
   ]
  },
  {
   "cell_type": "code",
   "execution_count": null,
   "id": "afb192d8-920f-4289-9dd4-fbfb1b98148a",
   "metadata": {},
   "outputs": [],
   "source": []
  },
  {
   "cell_type": "code",
   "execution_count": null,
   "id": "2f918bf2-a407-4361-a9fd-2a56f0ce5cbf",
   "metadata": {},
   "outputs": [],
   "source": [
    "##Q8. Which type of plot can be used to display data in terms of range?"
   ]
  },
  {
   "cell_type": "code",
   "execution_count": null,
   "id": "b69cfcb0-e56f-41b3-828e-3da28ba273d5",
   "metadata": {},
   "outputs": [],
   "source": [
    "\n",
    "The box plot consists of a rectangular \"box\" that represents the interquartile range (IQR), which is the range between Q1 and Q3.\n",
    "The line inside the box represents the median,\n",
    "and \"whiskers\" extend from the box to the minimum and maximum values that fall within a certain range (often defined as 1.5 times the IQR)."
   ]
  },
  {
   "cell_type": "code",
   "execution_count": null,
   "id": "42da0a8d-d312-40b6-aed0-f220aa92d65b",
   "metadata": {},
   "outputs": [],
   "source": []
  },
  {
   "cell_type": "code",
   "execution_count": null,
   "id": "1b0cfc74-0ee5-4cf4-bd89-0a8b2acb2ed0",
   "metadata": {},
   "outputs": [],
   "source": [
    "##Q9. Describe the difference between descriptive and inferential statistics. Give an example of each\n",
    "type of statistics and explain how they are used."
   ]
  },
  {
   "cell_type": "code",
   "execution_count": null,
   "id": "71fcb18e-2bfc-4e85-a9c0-2d888fd0b976",
   "metadata": {},
   "outputs": [],
   "source": [
    "descriptive statistics are used to describe the characteristics of a data set. They can be used to summarize the data, find patterns, \n",
    "and identify outliers. Inferential statistics are used to make inferences about a population based on a sample. They can be used to test \n",
    "hypotheses, make predictions, and estimate the parameters of a population.\n",
    "Here are some examples of each type of statistics:\n",
    "* Descriptive statistics:\n",
    "    * The mean, median, and mode are all measures of central tendency. They can be used to describe the center of a data set.\n",
    "    * The standard deviation is a measure of variability. It can be used to describe how spread out a data set is.\n",
    "    * The range is the difference between the largest and smallest values in a data set. It can be used to describe the spread of a data \n",
    "    set.\n",
    "* Inferential statistics:"
   ]
  },
  {
   "cell_type": "code",
   "execution_count": null,
   "id": "d349c0d9-82b3-4314-9ee0-32fc33d04d55",
   "metadata": {},
   "outputs": [],
   "source": []
  },
  {
   "cell_type": "code",
   "execution_count": null,
   "id": "3284715c-edc7-449c-8f5d-5b4c90ad0419",
   "metadata": {},
   "outputs": [],
   "source": [
    "##Q10. What are some common measures of central tendency and variability used in statistics? Explain\n",
    "how each measure can be used to describe a data set"
   ]
  },
  {
   "cell_type": "code",
   "execution_count": null,
   "id": "47c03804-0cd6-4520-acb8-5c7972045e18",
   "metadata": {},
   "outputs": [],
   "source": [
    "There are many different measures of central tendency and variability that can be used to describe a data set. Some of the most\n",
    "common measures include:\n",
    "* **Mean:** The mean is the average of all the values in a data set. It is calculated by adding all the values in the data set and\n",
    "then dividing by the number of values.\n",
    "* **Median:** The median is the middle value in a data set when the values are ordered from least to greatest. If there is an even number \n",
    "of values in the data set, the median is the average of the two middle values.\n",
    "* **Mode:** The mode is the value that occurs most frequently in a data set."
   ]
  }
 ],
 "metadata": {
  "kernelspec": {
   "display_name": "Python 3 (ipykernel)",
   "language": "python",
   "name": "python3"
  },
  "language_info": {
   "codemirror_mode": {
    "name": "ipython",
    "version": 3
   },
   "file_extension": ".py",
   "mimetype": "text/x-python",
   "name": "python",
   "nbconvert_exporter": "python",
   "pygments_lexer": "ipython3",
   "version": "3.10.8"
  }
 },
 "nbformat": 4,
 "nbformat_minor": 5
}
